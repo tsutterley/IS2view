{
 "cells": [
  {
   "attachments": {},
   "cell_type": "markdown",
   "metadata": {},
   "source": [
    "# ICESat-2 ATL15 Viewer\n",
    "Interactive visualization and data extraction tool for ICESat-2 Gridded Land Ice Height Change data (ATL15)"
   ]
  },
  {
   "cell_type": "code",
   "execution_count": null,
   "metadata": {},
   "outputs": [],
   "source": [
    "import ipywidgets\n",
    "import IS2view\n",
    "# autoreload\n",
    "%load_ext autoreload\n",
    "%autoreload 2"
   ]
  },
  {
   "attachments": {},
   "cell_type": "markdown",
   "metadata": {},
   "source": [
    "#### Set parameters for ATL15\n",
    "- Asset: Location to get the data\n",
    "- Directory: Working data directory\n",
    "- Release: ATL15 data release (001, 002)\n",
    "- Region: ATL15 data region (AA, CN, CS, GL, IS, RA, SV)\n",
    "- Resolution: ATL15 horizontal resolution (01km, 10km, 20km, 40km)\n",
    "- Group: ATL15 data group to read from file\n",
    "- Format: ATL15 data format to read (nc, zarr)"
   ]
  },
  {
   "cell_type": "code",
   "execution_count": null,
   "metadata": {},
   "outputs": [],
   "source": [
    "IS2widgets = IS2view.widgets()\n",
    "ipywidgets.VBox([\n",
    "    IS2widgets.asset,\n",
    "    IS2widgets.directory,\n",
    "    IS2widgets.release,\n",
    "    IS2widgets.region,\n",
    "    IS2widgets.resolution,\n",
    "    IS2widgets.group,\n",
    "    IS2widgets.format,\n",
    "])"
   ]
  },
  {
   "attachments": {},
   "cell_type": "markdown",
   "metadata": {},
   "source": [
    "### Interactive Mapping with Leaflet\n",
    "\n",
    "Interactive maps within IS2view are built upon [ipyleaflet](https://ipyleaflet.readthedocs.io). Clicking and dragging will pan the field of view, and zooming will adjust the field of view. There are 2 polar stereographic projections available for mapping in IS2view ([North](https://epsg.io/3413) and [South](https://epsg.io/3031)). The map projection, map center and zoom level will all be set based on the ATL15 region selected. The available basemaps are NASA's Next Generation Blue Marble visualization for the Arctic and Antarctic regions.\n",
    "\n",
    "Regional time series can be extracted from ATL15 by interactively drawing geometries on the leaflet map or programmatically using [geopandas GeoDataFrames](https://geopandas.org/en/stable/docs/reference/api/geopandas.GeoDataFrame.html)."
   ]
  },
  {
   "cell_type": "code",
   "execution_count": null,
   "metadata": {},
   "outputs": [],
   "source": [
    "m = IS2view.Leaflet(IS2widgets.projection,\n",
    "    center=IS2widgets.center,\n",
    "    zoom=IS2widgets.zoom,\n",
    "    draw_control=True,\n",
    "    attribution=True)\n",
    "m.map"
   ]
  },
  {
   "attachments": {},
   "cell_type": "markdown",
   "metadata": {},
   "source": [
    "### Query CMR for ATL15 granule\n",
    "NASA's Common Metadata Repository (CMR) is a catalog of metadata records contained within the Earth Observing System Data and Information System (EOSDIS). ICESat-2 ATL15 data is archived at the NASA Distributed Active Archive Center (DAAC) at the [National Snow and Ice Data Center (NSIDC)](https://nsidc.org/daac/).\n",
    "\n",
    "Currently, ATL15 data is only available from the on-premises NSIDC archives. NASA Earthdata is converting to data storage in the cloud using Amazon Web Services (AWS). IS2view will updated to allow data access through the NSIDC s3 bucket when publicly available."
   ]
  },
  {
   "cell_type": "code",
   "execution_count": null,
   "metadata": {},
   "outputs": [],
   "source": [
    "granule = IS2view.utilities.query_resources(\n",
    "    asset=IS2widgets.asset.value,\n",
    "    directory=IS2widgets.directory.value,\n",
    "    product='ATL15',\n",
    "    release=IS2widgets.release.value,\n",
    "    region=IS2widgets.region.value,\n",
    "    resolution=IS2widgets.resolution.value,\n",
    "    format=IS2widgets.format.value,\n",
    ")"
   ]
  },
  {
   "attachments": {},
   "cell_type": "markdown",
   "metadata": {},
   "source": [
    "### Read and inspect ATL15 data\n",
    "The selected group within ATL15 data will be read using [xarray](https://xarray.dev/) and [rioxarray](https://corteva.github.io/rioxarray/)."
   ]
  },
  {
   "cell_type": "code",
   "execution_count": null,
   "metadata": {},
   "outputs": [],
   "source": [
    "ds = IS2view.io.from_file(granule,\n",
    "    group=IS2widgets.group.value,\n",
    "    format=IS2widgets.format.value)\n",
    "ds"
   ]
  },
  {
   "attachments": {},
   "cell_type": "markdown",
   "metadata": {},
   "source": [
    "#### Set plot parameters for ATL15\n",
    "Specifies the variable to plot, the [colormap](https://matplotlib.org/gallery/color/colormap_reference.html), and the normalization for the plot colors."
   ]
  },
  {
   "cell_type": "code",
   "execution_count": null,
   "metadata": {},
   "outputs": [],
   "source": [
    "IS2widgets.set_variables(ds)\n",
    "IS2widgets.set_atl15_defaults()\n",
    "IS2widgets.set_lags(ds)\n",
    "ipywidgets.VBox([\n",
    "    IS2widgets.variable,\n",
    "    IS2widgets.timelag,\n",
    "    IS2widgets.dynamic,\n",
    "    IS2widgets.range,\n",
    "    IS2widgets.cmap,\n",
    "    IS2widgets.reverse,\n",
    "])"
   ]
  },
  {
   "attachments": {},
   "cell_type": "markdown",
   "metadata": {},
   "source": [
    "### Add xarray dataset as an image service layer"
   ]
  },
  {
   "cell_type": "code",
   "execution_count": null,
   "metadata": {},
   "outputs": [],
   "source": [
    "ds.leaflet.plot(m.map, lag=IS2widgets.lag,\n",
    "    vmin=IS2widgets.vmin, vmax=IS2widgets.vmax,\n",
    "    variable=IS2widgets.variable.value,\n",
    "    cmap=IS2widgets.colormap,\n",
    "    opacity=0.75,\n",
    "    enable_popups=False)\n",
    "IS2widgets.timelag.observe(ds.leaflet.set_lag)"
   ]
  },
  {
   "attachments": {},
   "cell_type": "markdown",
   "metadata": {},
   "source": [
    "### Extract time series from selected geometries\n",
    "- Point: time series for a geolocation\n",
    "- Transect: time series for a line segment\n",
    "- Regional average: time series for a polygon or bounding box"
   ]
  },
  {
   "cell_type": "code",
   "execution_count": null,
   "metadata": {},
   "outputs": [],
   "source": [
    "for feature in m.geometries['features']:\n",
    "    ds.timeseries.plot(feature,\n",
    "        variable=IS2widgets.variable.value,\n",
    "    )"
   ]
  },
  {
   "attachments": {},
   "cell_type": "markdown",
   "metadata": {},
   "source": [
    "### Remove the image service layer from the map"
   ]
  },
  {
   "cell_type": "code",
   "execution_count": null,
   "metadata": {},
   "outputs": [],
   "source": [
    "ds.leaflet.reset()"
   ]
  }
 ],
 "metadata": {
  "interpreter": {
   "hash": "31f2aee4e71d21fbe5cf8b01ff0e069b9275f58929596ceb00d14d90e3e16cd6"
  },
  "kernelspec": {
   "display_name": "Python 3",
   "language": "python",
   "name": "python3"
  },
  "language_info": {
   "codemirror_mode": {
    "name": "ipython",
    "version": 3
   },
   "file_extension": ".py",
   "mimetype": "text/x-python",
   "name": "python",
   "nbconvert_exporter": "python",
   "pygments_lexer": "ipython3",
   "version": "3.10.6"
  }
 },
 "nbformat": 4,
 "nbformat_minor": 4
}
