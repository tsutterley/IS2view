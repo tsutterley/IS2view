{
 "cells": [
  {
   "attachments": {},
   "cell_type": "markdown",
   "metadata": {},
   "source": [
    "# ICESat-2 ATL14 Viewer\n",
    "Interactive visualization and data extraction tool for ICESat-2 Gridded Land Ice Height data (ATL14)"
   ]
  },
  {
   "cell_type": "code",
   "execution_count": null,
   "metadata": {},
   "outputs": [],
   "source": [
    "import IS2view\n",
    "# autoreload\n",
    "%load_ext autoreload\n",
    "%autoreload 2"
   ]
  },
  {
   "attachments": {},
   "cell_type": "markdown",
   "metadata": {},
   "source": [
    "#### Set parameters for ATL14\n",
    "- Asset: Location to get the data\n",
    "- Directory: Working data directory\n",
    "- Release: ATL14 data release (001, 002, 003)\n",
    "- Region: ATL14 data region (AA, A1, A2, A3, A4, CN, CS, GL, IS, RA, SV)\n",
    "- Format: ATL14 data format to read (nc, zarr)"
   ]
  },
  {
   "cell_type": "code",
   "execution_count": null,
   "metadata": {},
   "outputs": [],
   "source": [
    "IS2widgets = IS2view.widgets()\n",
    "IS2widgets.VBox([\n",
    "    IS2widgets.asset,\n",
    "    IS2widgets.directory,\n",
    "    IS2widgets.release,\n",
    "    IS2widgets.region,\n",
    "    IS2widgets.format,\n",
    "])"
   ]
  },
  {
   "attachments": {},
   "cell_type": "markdown",
   "metadata": {},
   "source": [
    "### Query CMR for ATL14 granule\n",
    "NASA's Common Metadata Repository (CMR) is a catalog of metadata records contained within the Earth Observing System Data and Information System (EOSDIS). ICESat-2 ATL14 data is archived at the NASA Distributed Active Archive Center (DAAC) at the [National Snow and Ice Data Center (NSIDC)](https://nsidc.org/daac/)."
   ]
  },
  {
   "cell_type": "code",
   "execution_count": null,
   "metadata": {},
   "outputs": [],
   "source": [
    "granule = IS2view.utilities.query_resources(\n",
    "    asset=IS2widgets.asset.value,\n",
    "    directory=IS2widgets.directory.value,\n",
    "    product='ATL14',\n",
    "    release=IS2widgets.release.value,\n",
    "    region=IS2widgets.region.value,\n",
    "    resolution='100m',\n",
    "    format=IS2widgets.format.value\n",
    ")"
   ]
  },
  {
   "attachments": {},
   "cell_type": "markdown",
   "metadata": {},
   "source": [
    "### Read and inspect ATL14 data\n",
    "The ATL14 data will be read using using [xarray](https://xarray.dev/) and [rioxarray](https://corteva.github.io/rioxarray/)."
   ]
  },
  {
   "cell_type": "code",
   "execution_count": null,
   "metadata": {},
   "outputs": [],
   "source": [
    "variables = ['h', 'h_sigma', 'misfit_rms', 'misfit_scaled_rms']\n",
    "ds = IS2view.open_dataset(granule,\n",
    "    variable=variables,\n",
    "    format=IS2widgets.format.value)\n",
    "ds"
   ]
  },
  {
   "attachments": {},
   "cell_type": "markdown",
   "metadata": {
    "tags": []
   },
   "source": [
    "### Interactive Mapping with Leaflet\n",
    "\n",
    "Interactive maps within IS2view are built upon [ipyleaflet](https://ipyleaflet.readthedocs.io). Clicking and dragging will pan the field of view, and zooming will adjust the field of view. There are 2 polar stereographic projections available for mapping in IS2view ([North](https://epsg.io/3413) and [South](https://epsg.io/3031)). The map projection, map center and zoom level will all be set based on the ATL14 region selected. The available basemaps are NASA's Next Generation Blue Marble visualization for the Arctic and Antarctic regions.\n",
    "\n",
    "Transects can be extracted by interactively drawing polylines on the leaflet map or programmatically using [geopandas GeoDataFrames](https://geopandas.org/en/stable/docs/reference/api/geopandas.GeoDataFrame.html). See [Recipes](https://is2view.readthedocs.io/en/latest/user_guide/Recipes.html) for more information.\n",
    "\n",
    "#### Set plot parameters for ATL14"
   ]
  },
  {
   "cell_type": "code",
   "execution_count": null,
   "metadata": {},
   "outputs": [],
   "source": [
    "# create leaflet map\n",
    "m = IS2view.Leaflet(IS2widgets.projection,\n",
    "    center=IS2widgets.center,\n",
    "    zoom=IS2widgets.zoom,\n",
    "    draw_control=True,\n",
    "    draw_tools='polyline',\n",
    "    attribution=False)\n",
    "# set plot attributes\n",
    "IS2widgets.set_variables(ds)\n",
    "IS2widgets.set_atl14_defaults()\n",
    "widget_pane = IS2widgets.VBox([\n",
    "    IS2widgets.variable,\n",
    "    IS2widgets.cmap,\n",
    "    IS2widgets.reverse,\n",
    "])\n",
    "# display as a panel row\n",
    "IS2widgets.Row(m.map, widget_pane)"
   ]
  },
  {
   "attachments": {},
   "cell_type": "markdown",
   "metadata": {},
   "source": [
    "### Add xarray dataset as an image service layer"
   ]
  },
  {
   "cell_type": "code",
   "execution_count": null,
   "metadata": {},
   "outputs": [],
   "source": [
    "ds.leaflet.plot(m.map,\n",
    "    vmin=IS2widgets.vmin, vmax=IS2widgets.vmax,\n",
    "    variable=IS2widgets.variable.value,\n",
    "    cmap=IS2widgets.colormap,\n",
    "    opacity=0.75,\n",
    "    enable_popups=True)\n",
    "# observe changes in widget parameters\n",
    "ds.leaflet.observe_widget(IS2widgets)"
   ]
  },
  {
   "attachments": {},
   "cell_type": "markdown",
   "metadata": {},
   "source": [
    "### Extract transects using selected geometries"
   ]
  },
  {
   "cell_type": "code",
   "execution_count": null,
   "metadata": {},
   "outputs": [],
   "source": [
    "for feature in m.geometries['features']:\n",
    "    ds.transect.plot(feature,\n",
    "        variable=IS2widgets.variable.value,\n",
    "    )"
   ]
  },
  {
   "attachments": {},
   "cell_type": "markdown",
   "metadata": {},
   "source": [
    "### Remove the image service layer from the map"
   ]
  },
  {
   "cell_type": "code",
   "execution_count": null,
   "metadata": {},
   "outputs": [],
   "source": [
    "ds.leaflet.reset()"
   ]
  }
 ],
 "metadata": {
  "interpreter": {
   "hash": "31f2aee4e71d21fbe5cf8b01ff0e069b9275f58929596ceb00d14d90e3e16cd6"
  },
  "kernelspec": {
   "display_name": "Python 3 (ipykernel)",
   "language": "python",
   "name": "python3"
  },
  "language_info": {
   "codemirror_mode": {
    "name": "ipython",
    "version": 3
   },
   "file_extension": ".py",
   "mimetype": "text/x-python",
   "name": "python",
   "nbconvert_exporter": "python",
   "pygments_lexer": "ipython3",
   "version": "3.10.13"
  }
 },
 "nbformat": 4,
 "nbformat_minor": 4
}
