{
 "cells": [
  {
   "cell_type": "markdown",
   "metadata": {},
   "source": [
    "# ICESat-2 ATL14 Viewer\n",
    "Plots ICESat-2 Gridded Land Ice Height data (ATL14) on interactive leaflet maps"
   ]
  },
  {
   "cell_type": "markdown",
   "metadata": {},
   "source": [
    "#### Load necessary packages"
   ]
  },
  {
   "cell_type": "code",
   "execution_count": null,
   "metadata": {},
   "outputs": [],
   "source": [
    "import os\n",
    "import ipywidgets\n",
    "import rioxarray\n",
    "import IS2view\n",
    "# autoreload\n",
    "%load_ext autoreload\n",
    "%autoreload 2"
   ]
  },
  {
   "cell_type": "markdown",
   "metadata": {},
   "source": [
    "### Interactive Mapping with Leaflet\n",
    "\n",
    "Interactive maps within IS2view are built upon [ipyleaflet](https://ipyleaflet.readthedocs.io).\n",
    "\n",
    "There are 2 projections available for mapping ([North](https://epsg.io/3413) and [South](https://epsg.io/3031)) depending on the ATL14 region selected."
   ]
  },
  {
   "cell_type": "code",
   "execution_count": null,
   "metadata": {},
   "outputs": [],
   "source": [
    "IS2widgets = IS2view.widgets()\n",
    "ipywidgets.VBox([\n",
    "    IS2widgets.release,\n",
    "    IS2widgets.region,\n",
    "])"
   ]
  },
  {
   "cell_type": "markdown",
   "metadata": {},
   "source": [
    "### Create ipyleaflet map in specified projection"
   ]
  },
  {
   "cell_type": "code",
   "execution_count": null,
   "metadata": {},
   "outputs": [],
   "source": [
    "m = IS2view.leaflet(IS2widgets.projection,\n",
    "    center=IS2widgets.center,\n",
    "    zoom=IS2widgets.zoom,\n",
    "    attribution=True)\n",
    "m.map"
   ]
  },
  {
   "cell_type": "markdown",
   "metadata": {},
   "source": [
    "### Query CMR for ATL14 granule\n",
    "Eventually will switch this to the s3 instance when publicly available"
   ]
  },
  {
   "cell_type": "code",
   "execution_count": null,
   "metadata": {},
   "outputs": [],
   "source": [
    "ids,urls = IS2view.utilities.cmr(product='ATL14',\n",
    "    release=IS2widgets.release.value,\n",
    "    regions=IS2widgets.region.value,\n",
    "    resolutions='100m',\n",
    "    provider='NSIDC_ECS')\n",
    "if not os.access(ids[0], os.F_OK):\n",
    "    IS2view.utilities.from_nsidc(urls[0], local=ids[0])"
   ]
  },
  {
   "cell_type": "markdown",
   "metadata": {},
   "source": [
    "### Read and inspect ATL14 data"
   ]
  },
  {
   "cell_type": "code",
   "execution_count": null,
   "metadata": {},
   "outputs": [],
   "source": [
    "variables = ['h', 'h_sigma', 'misfit_rms', 'misfit_scaled_rms']\n",
    "ds = rioxarray.open_rasterio(ids[0],\n",
    "    variable=variables,\n",
    "    masked=True)\n",
    "ds"
   ]
  },
  {
   "cell_type": "code",
   "execution_count": null,
   "metadata": {},
   "outputs": [],
   "source": [
    "IS2widgets.set_variables(ds)\n",
    "IS2widgets.set_atl14_defaults()\n",
    "ipywidgets.VBox([\n",
    "    IS2widgets.variable,\n",
    "    IS2widgets.cmap,\n",
    "    IS2widgets.reverse,\n",
    "])"
   ]
  },
  {
   "cell_type": "markdown",
   "metadata": {},
   "source": [
    "### Add xarray dataset as an image service layer"
   ]
  },
  {
   "cell_type": "code",
   "execution_count": null,
   "metadata": {},
   "outputs": [],
   "source": [
    "ds.leaflet.plot(m.map,\n",
    "    vmin=IS2widgets.vmin, vmax=IS2widgets.vmax,\n",
    "    variable=IS2widgets.variable.value,\n",
    "    cmap=IS2widgets.colormap,\n",
    "    opacity=0.75,\n",
    "    enable_popups=True)"
   ]
  },
  {
   "cell_type": "markdown",
   "metadata": {},
   "source": [
    "### Remove the image service layer from the map"
   ]
  },
  {
   "cell_type": "code",
   "execution_count": null,
   "metadata": {},
   "outputs": [],
   "source": [
    "ds.leaflet.reset()"
   ]
  },
  {
   "cell_type": "code",
   "execution_count": null,
   "metadata": {},
   "outputs": [],
   "source": []
  }
 ],
 "metadata": {
  "interpreter": {
   "hash": "31f2aee4e71d21fbe5cf8b01ff0e069b9275f58929596ceb00d14d90e3e16cd6"
  },
  "kernelspec": {
   "display_name": "Python 3",
   "language": "python",
   "name": "python3"
  },
  "language_info": {
   "codemirror_mode": {
    "name": "ipython",
    "version": 3
   },
   "file_extension": ".py",
   "mimetype": "text/x-python",
   "name": "python",
   "nbconvert_exporter": "python",
   "pygments_lexer": "ipython3",
   "version": "3.8.10"
  }
 },
 "nbformat": 4,
 "nbformat_minor": 4
}
